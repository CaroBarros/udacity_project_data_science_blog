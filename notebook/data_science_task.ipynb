{
 "cells": [
  {
   "cell_type": "markdown",
   "metadata": {},
   "source": [
    "# **Analyzing the features that impact on Developer Salaries Using Machine Learning - Project Data Science Blog**\n",
    "\n",
    "The goal of this project is to analyze how different factors (education levels, country, work experience, platforms used and other) influence developer salaries and build a machine learning model to predict salaries based on education and other factors.\n",
    "\n",
    "Author: Carolina Barros"
   ]
  },
  {
   "cell_type": "markdown",
   "metadata": {},
   "source": [
    "### Table of Contents\n",
    "1. [Introduction & Objective](#1-introduction--objective)\n",
    "2. [Importing Libraries](#2-importing-libraries)\n",
    "3. [Loading the Dataset](#3-loading-the-dataset)\n",
    "4. [Data Cleaning & Preprocessing](#4-data-cleaning--preprocessing)\n",
    "5. [Exploratory Data Analysis (EDA)](#5-exploratory-data-analysis-eda)\n",
    "6. [Feature Engineering](#6-feature-engineering-if-applicable)\n",
    "7. [Splitting Data into Training & Testing Sets](#7-splitting-data-into-training--testing-sets)\n",
    "8. [Model Training](#8-model-training)\n",
    "9. [Model Performance Metrics](#9-model-performance-metrics)\n",
    "10. [Conclusion & Future Work](#10-conclusion--future-work)\n"
   ]
  },
  {
   "cell_type": "markdown",
   "metadata": {},
   "source": [
    "### 1. Introduction & Objective\n",
    "This notebook analyzes the dataset and builds a predictive model.\n"
   ]
  },
  {
   "cell_type": "markdown",
   "metadata": {},
   "source": [
    "### 2. Importing Libraries"
   ]
  },
  {
   "cell_type": "code",
   "execution_count": 1,
   "metadata": {},
   "outputs": [],
   "source": [
    "import os\n",
    "import pandas as pd\n",
    "import numpy as np\n",
    "import seaborn as sns\n",
    "import matplotlib.pyplot as plt\n",
    "from sklearn.model_selection import train_test_split\n",
    "from sklearn.linear_model import LinearRegression\n",
    "from sklearn.metrics import mean_absolute_error, r2_score\n",
    "from sklearn.ensemble import RandomForestRegressor"
   ]
  },
  {
   "cell_type": "markdown",
   "metadata": {},
   "source": [
    "### 3. Loading the Dataset"
   ]
  },
  {
   "cell_type": "code",
   "execution_count": 2,
   "metadata": {},
   "outputs": [
    {
     "data": {
      "text/html": [
       "<div>\n",
       "<style scoped>\n",
       "    .dataframe tbody tr th:only-of-type {\n",
       "        vertical-align: middle;\n",
       "    }\n",
       "\n",
       "    .dataframe tbody tr th {\n",
       "        vertical-align: top;\n",
       "    }\n",
       "\n",
       "    .dataframe thead th {\n",
       "        text-align: right;\n",
       "    }\n",
       "</style>\n",
       "<table border=\"1\" class=\"dataframe\">\n",
       "  <thead>\n",
       "    <tr style=\"text-align: right;\">\n",
       "      <th></th>\n",
       "      <th>ResponseId</th>\n",
       "      <th>MainBranch</th>\n",
       "      <th>Age</th>\n",
       "      <th>Employment</th>\n",
       "      <th>RemoteWork</th>\n",
       "      <th>EdLevel</th>\n",
       "      <th>YearsCode</th>\n",
       "      <th>YearsCodePro</th>\n",
       "      <th>DevType</th>\n",
       "      <th>OrgSize</th>\n",
       "      <th>Country</th>\n",
       "      <th>Currency</th>\n",
       "      <th>CompTotal</th>\n",
       "      <th>LanguageHaveWorkedWith</th>\n",
       "      <th>DatabaseHaveWorkedWith</th>\n",
       "      <th>PlatformHaveWorkedWith</th>\n",
       "      <th>WebframeHaveWorkedWith</th>\n",
       "      <th>WorkExp</th>\n",
       "      <th>Industry</th>\n",
       "      <th>JobSat</th>\n",
       "    </tr>\n",
       "  </thead>\n",
       "  <tbody>\n",
       "    <tr>\n",
       "      <th>0</th>\n",
       "      <td>73</td>\n",
       "      <td>I am a developer by profession</td>\n",
       "      <td>18-24 years old</td>\n",
       "      <td>Employed, full-time;Student, full-time;Indepen...</td>\n",
       "      <td>Hybrid (some remote, some in-person)</td>\n",
       "      <td>Secondary school (e.g. American high school, G...</td>\n",
       "      <td>3</td>\n",
       "      <td>1</td>\n",
       "      <td>Data scientist or machine learning specialist</td>\n",
       "      <td>100 to 499 employees</td>\n",
       "      <td>Pakistan</td>\n",
       "      <td>PKR\\tPakistani rupee</td>\n",
       "      <td>2040000.0</td>\n",
       "      <td>Assembly;Bash/Shell (all shells);C;C++;HTML/CS...</td>\n",
       "      <td>MongoDB;MySQL;SQLite</td>\n",
       "      <td>Microsoft Azure;VMware</td>\n",
       "      <td>Angular;AngularJS;Express;FastAPI;Flask;jQuery...</td>\n",
       "      <td>3.0</td>\n",
       "      <td>Software Development</td>\n",
       "      <td>10.0</td>\n",
       "    </tr>\n",
       "    <tr>\n",
       "      <th>1</th>\n",
       "      <td>380</td>\n",
       "      <td>I am a developer by profession</td>\n",
       "      <td>35-44 years old</td>\n",
       "      <td>Employed, full-time</td>\n",
       "      <td>Remote</td>\n",
       "      <td>Master’s degree (M.A., M.S., M.Eng., MBA, etc.)</td>\n",
       "      <td>15</td>\n",
       "      <td>6</td>\n",
       "      <td>Data scientist or machine learning specialist</td>\n",
       "      <td>20 to 99 employees</td>\n",
       "      <td>Turkey</td>\n",
       "      <td>EUR European Euro</td>\n",
       "      <td>85000.0</td>\n",
       "      <td>JavaScript;Julia;Python;SQL;TypeScript</td>\n",
       "      <td>DuckDB;PostgreSQL;SQLite</td>\n",
       "      <td>Amazon Web Services (AWS);Cloudflare;Digital O...</td>\n",
       "      <td>Next.js;React;Vue.js</td>\n",
       "      <td>7.0</td>\n",
       "      <td>Computer Systems Design and Services</td>\n",
       "      <td>10.0</td>\n",
       "    </tr>\n",
       "    <tr>\n",
       "      <th>2</th>\n",
       "      <td>390</td>\n",
       "      <td>I am a developer by profession</td>\n",
       "      <td>25-34 years old</td>\n",
       "      <td>Employed, full-time;Student, part-time</td>\n",
       "      <td>Remote</td>\n",
       "      <td>Some college/university study without earning ...</td>\n",
       "      <td>7</td>\n",
       "      <td>7</td>\n",
       "      <td>Student</td>\n",
       "      <td>10 to 19 employees</td>\n",
       "      <td>United States of America</td>\n",
       "      <td>USD\\tUnited States dollar</td>\n",
       "      <td>110000.0</td>\n",
       "      <td>HTML/CSS;JavaScript;Python;SQL;TypeScript</td>\n",
       "      <td>IBM DB2;MySQL;SQLite</td>\n",
       "      <td>Amazon Web Services (AWS)</td>\n",
       "      <td>FastAPI;Flask;Node.js;Vue.js</td>\n",
       "      <td>8.0</td>\n",
       "      <td>Transportation, or Supply Chain</td>\n",
       "      <td>10.0</td>\n",
       "    </tr>\n",
       "    <tr>\n",
       "      <th>3</th>\n",
       "      <td>393</td>\n",
       "      <td>I am a developer by profession</td>\n",
       "      <td>35-44 years old</td>\n",
       "      <td>Employed, full-time</td>\n",
       "      <td>Hybrid (some remote, some in-person)</td>\n",
       "      <td>Professional degree (JD, MD, Ph.D, Ed.D, etc.)</td>\n",
       "      <td>32</td>\n",
       "      <td>18</td>\n",
       "      <td>Engineering manager</td>\n",
       "      <td>1,000 to 4,999 employees</td>\n",
       "      <td>United Kingdom of Great Britain and Northern I...</td>\n",
       "      <td>GBP\\tPound sterling</td>\n",
       "      <td>126420.0</td>\n",
       "      <td>C#;HTML/CSS;Java;JavaScript;MicroPython;Python...</td>\n",
       "      <td>BigQuery;Oracle;PostgreSQL</td>\n",
       "      <td>Amazon Web Services (AWS)</td>\n",
       "      <td>React</td>\n",
       "      <td>18.0</td>\n",
       "      <td>Retail and Consumer Services</td>\n",
       "      <td>7.0</td>\n",
       "    </tr>\n",
       "    <tr>\n",
       "      <th>4</th>\n",
       "      <td>399</td>\n",
       "      <td>I am a developer by profession</td>\n",
       "      <td>45-54 years old</td>\n",
       "      <td>Employed, full-time</td>\n",
       "      <td>Remote</td>\n",
       "      <td>Some college/university study without earning ...</td>\n",
       "      <td>38</td>\n",
       "      <td>30</td>\n",
       "      <td>Developer, full-stack</td>\n",
       "      <td>1,000 to 4,999 employees</td>\n",
       "      <td>United States of America</td>\n",
       "      <td>USD\\tUnited States dollar</td>\n",
       "      <td>195000.0</td>\n",
       "      <td>Bash/Shell (all shells);C#;HTML/CSS;JavaScript...</td>\n",
       "      <td>Microsoft SQL Server;PostgreSQL;Snowflake</td>\n",
       "      <td>Microsoft Azure</td>\n",
       "      <td>Angular;ASP.NET CORE;React</td>\n",
       "      <td>30.0</td>\n",
       "      <td>Healthcare</td>\n",
       "      <td>5.0</td>\n",
       "    </tr>\n",
       "  </tbody>\n",
       "</table>\n",
       "</div>"
      ],
      "text/plain": [
       "   ResponseId                      MainBranch              Age  \\\n",
       "0          73  I am a developer by profession  18-24 years old   \n",
       "1         380  I am a developer by profession  35-44 years old   \n",
       "2         390  I am a developer by profession  25-34 years old   \n",
       "3         393  I am a developer by profession  35-44 years old   \n",
       "4         399  I am a developer by profession  45-54 years old   \n",
       "\n",
       "                                          Employment  \\\n",
       "0  Employed, full-time;Student, full-time;Indepen...   \n",
       "1                                Employed, full-time   \n",
       "2             Employed, full-time;Student, part-time   \n",
       "3                                Employed, full-time   \n",
       "4                                Employed, full-time   \n",
       "\n",
       "                             RemoteWork  \\\n",
       "0  Hybrid (some remote, some in-person)   \n",
       "1                                Remote   \n",
       "2                                Remote   \n",
       "3  Hybrid (some remote, some in-person)   \n",
       "4                                Remote   \n",
       "\n",
       "                                             EdLevel YearsCode YearsCodePro  \\\n",
       "0  Secondary school (e.g. American high school, G...         3            1   \n",
       "1    Master’s degree (M.A., M.S., M.Eng., MBA, etc.)        15            6   \n",
       "2  Some college/university study without earning ...         7            7   \n",
       "3     Professional degree (JD, MD, Ph.D, Ed.D, etc.)        32           18   \n",
       "4  Some college/university study without earning ...        38           30   \n",
       "\n",
       "                                         DevType                   OrgSize  \\\n",
       "0  Data scientist or machine learning specialist      100 to 499 employees   \n",
       "1  Data scientist or machine learning specialist        20 to 99 employees   \n",
       "2                                        Student        10 to 19 employees   \n",
       "3                            Engineering manager  1,000 to 4,999 employees   \n",
       "4                          Developer, full-stack  1,000 to 4,999 employees   \n",
       "\n",
       "                                             Country  \\\n",
       "0                                           Pakistan   \n",
       "1                                             Turkey   \n",
       "2                           United States of America   \n",
       "3  United Kingdom of Great Britain and Northern I...   \n",
       "4                           United States of America   \n",
       "\n",
       "                    Currency  CompTotal  \\\n",
       "0       PKR\\tPakistani rupee  2040000.0   \n",
       "1          EUR European Euro    85000.0   \n",
       "2  USD\\tUnited States dollar   110000.0   \n",
       "3        GBP\\tPound sterling   126420.0   \n",
       "4  USD\\tUnited States dollar   195000.0   \n",
       "\n",
       "                              LanguageHaveWorkedWith  \\\n",
       "0  Assembly;Bash/Shell (all shells);C;C++;HTML/CS...   \n",
       "1             JavaScript;Julia;Python;SQL;TypeScript   \n",
       "2          HTML/CSS;JavaScript;Python;SQL;TypeScript   \n",
       "3  C#;HTML/CSS;Java;JavaScript;MicroPython;Python...   \n",
       "4  Bash/Shell (all shells);C#;HTML/CSS;JavaScript...   \n",
       "\n",
       "                      DatabaseHaveWorkedWith  \\\n",
       "0                       MongoDB;MySQL;SQLite   \n",
       "1                   DuckDB;PostgreSQL;SQLite   \n",
       "2                       IBM DB2;MySQL;SQLite   \n",
       "3                 BigQuery;Oracle;PostgreSQL   \n",
       "4  Microsoft SQL Server;PostgreSQL;Snowflake   \n",
       "\n",
       "                              PlatformHaveWorkedWith  \\\n",
       "0                             Microsoft Azure;VMware   \n",
       "1  Amazon Web Services (AWS);Cloudflare;Digital O...   \n",
       "2                          Amazon Web Services (AWS)   \n",
       "3                          Amazon Web Services (AWS)   \n",
       "4                                    Microsoft Azure   \n",
       "\n",
       "                              WebframeHaveWorkedWith  WorkExp  \\\n",
       "0  Angular;AngularJS;Express;FastAPI;Flask;jQuery...      3.0   \n",
       "1                               Next.js;React;Vue.js      7.0   \n",
       "2                       FastAPI;Flask;Node.js;Vue.js      8.0   \n",
       "3                                              React     18.0   \n",
       "4                         Angular;ASP.NET CORE;React     30.0   \n",
       "\n",
       "                               Industry  JobSat  \n",
       "0                  Software Development    10.0  \n",
       "1  Computer Systems Design and Services    10.0  \n",
       "2       Transportation, or Supply Chain    10.0  \n",
       "3          Retail and Consumer Services     7.0  \n",
       "4                            Healthcare     5.0  "
      ]
     },
     "execution_count": 2,
     "metadata": {},
     "output_type": "execute_result"
    }
   ],
   "source": [
    "# Load dataset\n",
    "df = pd.read_csv(\"../data/dataset.csv\")\n",
    "df = df.loc[:, ~df.columns.str.contains('^Unnamed')]\n",
    "# Display first few rows\n",
    "df.head()"
   ]
  },
  {
   "cell_type": "code",
   "execution_count": 3,
   "metadata": {},
   "outputs": [
    {
     "data": {
      "text/plain": [
       "Index(['ResponseId', 'MainBranch', 'Age', 'Employment', 'RemoteWork',\n",
       "       'EdLevel', 'YearsCode', 'YearsCodePro', 'DevType', 'OrgSize', 'Country',\n",
       "       'Currency', 'CompTotal', 'LanguageHaveWorkedWith',\n",
       "       'DatabaseHaveWorkedWith', 'PlatformHaveWorkedWith',\n",
       "       'WebframeHaveWorkedWith', 'WorkExp', 'Industry', 'JobSat'],\n",
       "      dtype='object')"
      ]
     },
     "execution_count": 3,
     "metadata": {},
     "output_type": "execute_result"
    }
   ],
   "source": [
    "df.columns"
   ]
  },
  {
   "cell_type": "markdown",
   "metadata": {},
   "source": [
    "### 4. Data Cleaning & Preprocessing"
   ]
  },
  {
   "cell_type": "code",
   "execution_count": 4,
   "metadata": {},
   "outputs": [
    {
     "data": {
      "text/plain": [
       "array(['Employed, full-time;Student, full-time;Independent contractor, freelancer, or self-employed;Employed, part-time',\n",
       "       'Employed, full-time', 'Employed, full-time;Student, part-time',\n",
       "       'Employed, full-time;Independent contractor, freelancer, or self-employed',\n",
       "       'Independent contractor, freelancer, or self-employed',\n",
       "       'Employed, full-time;Student, full-time',\n",
       "       'Independent contractor, freelancer, or self-employed;Employed, part-time',\n",
       "       'Employed, part-time',\n",
       "       'Employed, full-time;Independent contractor, freelancer, or self-employed;Student, part-time',\n",
       "       'Employed, full-time;Independent contractor, freelancer, or self-employed;Employed, part-time',\n",
       "       'Student, full-time;Employed, part-time',\n",
       "       'Independent contractor, freelancer, or self-employed;Student, part-time',\n",
       "       'Student, part-time;Employed, part-time',\n",
       "       'Employed, full-time;Not employed, but looking for work',\n",
       "       'Employed, full-time;Employed, part-time',\n",
       "       'Employed, full-time;Retired',\n",
       "       'Not employed, but looking for work;Independent contractor, freelancer, or self-employed;Employed, part-time',\n",
       "       'Employed, full-time;Independent contractor, freelancer, or self-employed;Student, part-time;Employed, part-time',\n",
       "       'Not employed, but looking for work;Student, part-time;Employed, part-time',\n",
       "       'Student, full-time;Independent contractor, freelancer, or self-employed;Employed, part-time',\n",
       "       'Employed, full-time;Student, full-time;Student, part-time',\n",
       "       'Not employed, but looking for work;Independent contractor, freelancer, or self-employed',\n",
       "       'Employed, full-time;Student, full-time;Not employed, but looking for work',\n",
       "       'Employed, full-time;Student, full-time;Independent contractor, freelancer, or self-employed',\n",
       "       'Employed, full-time;Not employed, but looking for work;Employed, part-time',\n",
       "       'Student, full-time;Independent contractor, freelancer, or self-employed',\n",
       "       'Independent contractor, freelancer, or self-employed;Not employed, and not looking for work',\n",
       "       'Employed, full-time;Student, full-time;Employed, part-time',\n",
       "       'Student, full-time;Not employed, but looking for work;Independent contractor, freelancer, or self-employed',\n",
       "       'Employed, full-time;Student, full-time;Student, part-time;Employed, part-time',\n",
       "       'Employed, full-time;Not employed, but looking for work;Independent contractor, freelancer, or self-employed',\n",
       "       'Independent contractor, freelancer, or self-employed;Student, part-time;Employed, part-time',\n",
       "       'Not employed, but looking for work;Independent contractor, freelancer, or self-employed;Student, part-time',\n",
       "       'Employed, full-time;Student, full-time;Independent contractor, freelancer, or self-employed;Student, part-time;Employed, part-time;Retired',\n",
       "       'Employed, full-time;Not employed, but looking for work;Independent contractor, freelancer, or self-employed;Employed, part-time',\n",
       "       'Independent contractor, freelancer, or self-employed;Retired',\n",
       "       'Not employed, but looking for work;Employed, part-time',\n",
       "       'Student, full-time;Independent contractor, freelancer, or self-employed;Student, part-time;Employed, part-time',\n",
       "       'Independent contractor, freelancer, or self-employed;Not employed, and not looking for work;Retired',\n",
       "       'Employed, full-time;Student, full-time;Not employed, but looking for work;Independent contractor, freelancer, or self-employed;Not employed, and not looking for work;Student, part-time;Employed, part-time;Retired',\n",
       "       'Not employed, but looking for work;Independent contractor, freelancer, or self-employed;Not employed, and not looking for work',\n",
       "       'Employed, full-time;Student, part-time;Employed, part-time',\n",
       "       'Employed, full-time;Not employed, but looking for work;Not employed, and not looking for work;Employed, part-time',\n",
       "       'Employed, full-time;Not employed, but looking for work;Independent contractor, freelancer, or self-employed;Not employed, and not looking for work;Employed, part-time',\n",
       "       'Not employed, but looking for work;Independent contractor, freelancer, or self-employed;Retired',\n",
       "       'Independent contractor, freelancer, or self-employed;Employed, part-time;Retired'],\n",
       "      dtype=object)"
      ]
     },
     "execution_count": 4,
     "metadata": {},
     "output_type": "execute_result"
    }
   ],
   "source": [
    "# Check unique values of Employement column\n",
    "df['Employment'].unique()"
   ]
  },
  {
   "cell_type": "code",
   "execution_count": 5,
   "metadata": {},
   "outputs": [
    {
     "data": {
      "text/plain": [
       "(12609, 20)"
      ]
     },
     "execution_count": 5,
     "metadata": {},
     "output_type": "execute_result"
    }
   ],
   "source": [
    "# Filter rows where 'employment_status' contains 'Employed, full-time', For analysing salaries it would be better to analyze anoly full-time status. \n",
    "df = df[df['Employment'].str.contains('Employed, full-time', na=False)]\n",
    "df.shape"
   ]
  },
  {
   "cell_type": "code",
   "execution_count": 6,
   "metadata": {},
   "outputs": [
    {
     "data": {
      "text/plain": [
       "array(['I am a developer by profession',\n",
       "       'I am not primarily a developer, but I write code sometimes as part of my work/studies'],\n",
       "      dtype=object)"
      ]
     },
     "execution_count": 6,
     "metadata": {},
     "output_type": "execute_result"
    }
   ],
   "source": [
    "df['MainBranch'].unique()"
   ]
  },
  {
   "cell_type": "code",
   "execution_count": 7,
   "metadata": {},
   "outputs": [
    {
     "data": {
      "text/plain": [
       "array(['18-24 years old', '35-44 years old', '25-34 years old',\n",
       "       '45-54 years old', '55-64 years old', '65 years or older',\n",
       "       'Under 18 years old', 'Prefer not to say'], dtype=object)"
      ]
     },
     "execution_count": 7,
     "metadata": {},
     "output_type": "execute_result"
    }
   ],
   "source": [
    "df['Age'].unique()"
   ]
  },
  {
   "cell_type": "code",
   "execution_count": 8,
   "metadata": {},
   "outputs": [
    {
     "data": {
      "text/plain": [
       "DevType\n",
       "Developer, full-stack                            5613\n",
       "Developer, back-end                              2897\n",
       "Developer, front-end                              612\n",
       "Engineering manager                               412\n",
       "Developer, desktop or enterprise applications     342\n",
       "Other (please specify):                           315\n",
       "DevOps specialist                                 261\n",
       "Data engineer                                     240\n",
       "Developer, mobile                                 236\n",
       "Senior Executive (C-Suite, VP, etc.)              219\n",
       "Data scientist or machine learning specialist     182\n",
       "Cloud infrastructure engineer                     168\n",
       "Research & Development role                       142\n",
       "Developer, embedded applications or devices       114\n",
       "Developer, AI                                     100\n",
       "Developer, QA or test                              90\n",
       "Engineer, site reliability                         87\n",
       "Academic researcher                                67\n",
       "Project manager                                    56\n",
       "System administrator                               55\n",
       "Data or business analyst                           55\n",
       "Security professional                              52\n",
       "Developer Experience                               49\n",
       "Product manager                                    44\n",
       "Educator                                           36\n",
       "Blockchain                                         34\n",
       "Developer, game or graphics                        34\n",
       "Developer Advocate                                 29\n",
       "Database administrator                             16\n",
       "Scientist                                          15\n",
       "Designer                                           13\n",
       "Student                                            10\n",
       "Hardware Engineer                                   9\n",
       "Marketing or sales professional                     5\n",
       "Name: count, dtype: int64"
      ]
     },
     "execution_count": 8,
     "metadata": {},
     "output_type": "execute_result"
    }
   ],
   "source": [
    "df['DevType'].value_counts()"
   ]
  },
  {
   "cell_type": "markdown",
   "metadata": {},
   "source": [
    "There is a lot of categories in dev type variable so I think I am going to reduce it for make it simpler.\n",
    "Proposed Grouping:\n",
    "- Software Developer: Developer (full-stack, back-end, front-end, mobile, desktop/enterprise applications, embedded applications, game/graphics, AI, QA/test)\n",
    "- Data & AI: Data Scientist or Machine Learning Specialist, Data Engineer, Data or Business Analyst, Developer, AI, Infrastructure & DevOps\n",
    "- DevOps Specialist: Cloud Infrastructure Engineer, Site Reliability Engineer, System Administrator, Management & Leadership\n",
    "- Engineering Manager: Project Manager, Product Manager, Senior Executive (C-Suite, VP, etc.)\n",
    "- Academic & Research: Academic Researcher, Research & Development Role, Scientist,Educator, Student\n",
    "- Security & Database: Security Professional, Database Administrator, \n",
    "- Other Technical Roles: Blockchain, Developer Advocate, Developer Experience, Hardware Engineer, \n",
    "- Non-Technical Roles: Designer, Marketing or Sales Professional, Other"
   ]
  },
  {
   "cell_type": "code",
   "execution_count": 9,
   "metadata": {},
   "outputs": [],
   "source": [
    "\n",
    "# Mapping dictionary\n",
    "category_map = {\n",
    "    'Developer, full-stack': 'Software Developer',\n",
    "    'Developer, back-end': 'Software Developer',\n",
    "    'Developer, front-end': 'Software Developer',\n",
    "    'Developer, mobile': 'Software Developer',\n",
    "    'Developer, desktop or enterprise applications': 'Software Developer',\n",
    "    'Developer, embedded applications or devices': 'Software Developer',\n",
    "    'Developer, game or graphics': 'Software Developer',\n",
    "    'Developer, AI': 'Data & AI',\n",
    "    'Developer, QA or test': 'Software Developer',\n",
    "    'Data scientist or machine learning specialist': 'Data & AI',\n",
    "    'Data engineer': 'Data & AI',\n",
    "    'Data or business analyst': 'Data & AI',\n",
    "    'Cloud infrastructure engineer': 'Infrastructure & DevOps',\n",
    "    'Engineer, site reliability': 'Infrastructure & DevOps',\n",
    "    'DevOps specialist': 'Infrastructure & DevOps',\n",
    "    'System administrator': 'Infrastructure & DevOps',\n",
    "    'Engineering manager': 'Management & Leadership',\n",
    "    'Project manager': 'Management & Leadership',\n",
    "    'Product manager': 'Management & Leadership',\n",
    "    'Senior Executive (C-Suite, VP, etc.)': 'Management & Leadership',\n",
    "    'Academic researcher': 'Academic & Research',\n",
    "    'Research & Development role': 'Academic & Research',\n",
    "    'Scientist': 'Academic & Research',\n",
    "    'Security professional': 'Security & Database',\n",
    "    'Database administrator': 'Security & Database',\n",
    "    'Blockchain': 'Other Technical Roles',\n",
    "    'Developer Advocate': 'Other Technical Roles',\n",
    "    'Developer Experience': 'Other Technical Roles',\n",
    "    'Hardware Engineer': 'Other Technical Roles',\n",
    "    'Designer': 'Non-Technical Roles',\n",
    "    'Marketing or sales professional': 'Non-Technical Roles',\n",
    "    'Educator': 'Academic & Research',\n",
    "    'Student': 'Academic & Research',\n",
    "    'Other (please specify):': 'Non-Technical Roles'\n",
    "}\n",
    "\n",
    "# Apply mapping\n",
    "df['role_category'] = df['DevType'].map(category_map)\n"
   ]
  },
  {
   "cell_type": "code",
   "execution_count": 10,
   "metadata": {},
   "outputs": [
    {
     "data": {
      "text/plain": [
       "EdLevel\n",
       "Bachelor’s degree (B.A., B.S., B.Eng., etc.)                                          6107\n",
       "Master’s degree (M.A., M.S., M.Eng., MBA, etc.)                                       3344\n",
       "Some college/university study without earning a degree                                1563\n",
       "Secondary school (e.g. American high school, German Realschule or Gymnasium, etc.)     559\n",
       "Associate degree (A.A., A.S., etc.)                                                    461\n",
       "Professional degree (JD, MD, Ph.D, Ed.D, etc.)                                         408\n",
       "Something else                                                                         109\n",
       "Primary/elementary school                                                               58\n",
       "Name: count, dtype: int64"
      ]
     },
     "execution_count": 10,
     "metadata": {},
     "output_type": "execute_result"
    }
   ],
   "source": [
    "df['EdLevel'].value_counts()"
   ]
  },
  {
   "cell_type": "code",
   "execution_count": 11,
   "metadata": {},
   "outputs": [
    {
     "data": {
      "text/plain": [
       "LanguageHaveWorkedWith\n",
       "HTML/CSS;JavaScript;TypeScript                                                                            187\n",
       "C#;HTML/CSS;JavaScript;SQL;TypeScript                                                                     162\n",
       "C#;HTML/CSS;JavaScript;SQL                                                                                100\n",
       "HTML/CSS;JavaScript;PHP;SQL                                                                                98\n",
       "C#;HTML/CSS;JavaScript;PowerShell;SQL;TypeScript                                                           89\n",
       "                                                                                                         ... \n",
       "Bash/Shell (all shells);C;C++;Elixir;Erlang;Go;JavaScript;Kotlin;Lua;MicroPython;Python;SQL;TypeScript      1\n",
       "Groovy;HTML/CSS;Java;JavaScript                                                                             1\n",
       "Bash/Shell (all shells);C;Dart;Go;HTML/CSS;JavaScript;Python;TypeScript                                     1\n",
       "C#;JavaScript;Kotlin;PHP;Python                                                                             1\n",
       "Bash/Shell (all shells);C#;HTML/CSS;JavaScript;PHP;PowerShell;Python;TypeScript                             1\n",
       "Name: count, Length: 6480, dtype: int64"
      ]
     },
     "execution_count": 11,
     "metadata": {},
     "output_type": "execute_result"
    }
   ],
   "source": [
    "df['LanguageHaveWorkedWith'].value_counts()"
   ]
  },
  {
   "cell_type": "code",
   "execution_count": 12,
   "metadata": {},
   "outputs": [],
   "source": [
    "# Create the new column with the number of languages\n",
    "df['num_languages'] = df['LanguageHaveWorkedWith'].apply(lambda x: len(x.split(';')))"
   ]
  },
  {
   "cell_type": "code",
   "execution_count": 13,
   "metadata": {},
   "outputs": [],
   "source": [
    "# Create the new column with the main (first) language\n",
    "df['main_language'] = df['LanguageHaveWorkedWith'].apply(lambda x: x.split(';')[0])"
   ]
  },
  {
   "cell_type": "markdown",
   "metadata": {},
   "source": [
    "Index['ResponseId', 'MainBranch', 'Age', 'Employment', 'RemoteWork',\n",
    "       'EdLevel', 'YearsCode', 'YearsCodePro', 'DevType', 'OrgSize', 'Country',\n",
    "       'Currency', 'CompTotal', 'LanguageHaveWorkedWith',\n",
    "       'DatabaseHaveWorkedWith', 'PlatformHaveWorkedWith',\n",
    "       'WebframeHaveWorkedWith', 'WorkExp', 'Industry', 'JobSat'],\n",
    "      dtype='object"
   ]
  },
  {
   "cell_type": "code",
   "execution_count": 14,
   "metadata": {},
   "outputs": [],
   "source": [
    "# Create the new column with the number of databases have worked with\n",
    "df['num_databases'] = df['DatabaseHaveWorkedWith'].apply(lambda x: len(x.split(';')))\n",
    "\n",
    "# Create the new column with the main (first) database have worke with\n",
    "df['main_database'] = df['DatabaseHaveWorkedWith'].apply(lambda x: x.split(';')[0])"
   ]
  },
  {
   "cell_type": "code",
   "execution_count": 15,
   "metadata": {},
   "outputs": [],
   "source": [
    "# Create the new column with the number of platforms have worked with\n",
    "df['num_platforms'] = df['PlatformHaveWorkedWith'].apply(lambda x: len(x.split(';')))\n",
    "\n",
    "# Create the new column with the main (first) platform have worke with\n",
    "df['main_platform'] = df['PlatformHaveWorkedWith'].apply(lambda x: x.split(';')[0])"
   ]
  },
  {
   "cell_type": "code",
   "execution_count": 16,
   "metadata": {},
   "outputs": [],
   "source": [
    "# Create the new column with the number of webframes have worked with\n",
    "df['num_webframes'] = df['WebframeHaveWorkedWith'].apply(lambda x: len(x.split(';')))\n",
    "\n",
    "# Create the new column with the main (first) webframe have worke with\n",
    "df['main_webframe'] = df['WebframeHaveWorkedWith'].apply(lambda x: x.split(';')[0])"
   ]
  },
  {
   "cell_type": "code",
   "execution_count": 17,
   "metadata": {},
   "outputs": [
    {
     "data": {
      "text/plain": [
       "Industry\n",
       "Software Development                          5195\n",
       "Other:                                        1303\n",
       "Fintech                                        832\n",
       "Internet, Telecomm or Information Services     667\n",
       "Retail and Consumer Services                   636\n",
       "Healthcare                                     626\n",
       "Banking/Financial Services                     624\n",
       "Media & Advertising Services                   460\n",
       "Manufacturing                                  435\n",
       "Transportation, or Supply Chain                398\n",
       "Government                                     389\n",
       "Higher Education                               305\n",
       "Computer Systems Design and Services           291\n",
       "Energy                                         247\n",
       "Insurance                                      201\n",
       "Name: count, dtype: int64"
      ]
     },
     "execution_count": 17,
     "metadata": {},
     "output_type": "execute_result"
    }
   ],
   "source": [
    "df['Industry'].value_counts()"
   ]
  },
  {
   "cell_type": "code",
   "execution_count": 18,
   "metadata": {},
   "outputs": [],
   "source": [
    "# Drop columns LanguageHaveWorkedWith,DatabaseHaveWorkedWith, PlatformHaveWorkedWith, WebframeHaveWorkedWith.\n",
    "df = df.drop(['MainBranch','DevType','LanguageHaveWorkedWith','DatabaseHaveWorkedWith', 'PlatformHaveWorkedWith','WebframeHaveWorkedWith'], axis=1)"
   ]
  },
  {
   "cell_type": "code",
   "execution_count": 19,
   "metadata": {},
   "outputs": [
    {
     "data": {
      "text/html": [
       "<div>\n",
       "<style scoped>\n",
       "    .dataframe tbody tr th:only-of-type {\n",
       "        vertical-align: middle;\n",
       "    }\n",
       "\n",
       "    .dataframe tbody tr th {\n",
       "        vertical-align: top;\n",
       "    }\n",
       "\n",
       "    .dataframe thead th {\n",
       "        text-align: right;\n",
       "    }\n",
       "</style>\n",
       "<table border=\"1\" class=\"dataframe\">\n",
       "  <thead>\n",
       "    <tr style=\"text-align: right;\">\n",
       "      <th></th>\n",
       "      <th>ResponseId</th>\n",
       "      <th>CompTotal</th>\n",
       "      <th>WorkExp</th>\n",
       "      <th>JobSat</th>\n",
       "      <th>num_languages</th>\n",
       "      <th>num_databases</th>\n",
       "      <th>num_platforms</th>\n",
       "      <th>num_webframes</th>\n",
       "    </tr>\n",
       "  </thead>\n",
       "  <tbody>\n",
       "    <tr>\n",
       "      <th>count</th>\n",
       "      <td>12609.000000</td>\n",
       "      <td>1.260900e+04</td>\n",
       "      <td>12609.000000</td>\n",
       "      <td>12609.000000</td>\n",
       "      <td>12609.000000</td>\n",
       "      <td>12609.000000</td>\n",
       "      <td>12609.000000</td>\n",
       "      <td>12609.000000</td>\n",
       "    </tr>\n",
       "    <tr>\n",
       "      <th>mean</th>\n",
       "      <td>28440.231739</td>\n",
       "      <td>7.930843e+60</td>\n",
       "      <td>11.437545</td>\n",
       "      <td>7.009041</td>\n",
       "      <td>5.971687</td>\n",
       "      <td>3.502022</td>\n",
       "      <td>2.440955</td>\n",
       "      <td>3.807281</td>\n",
       "    </tr>\n",
       "    <tr>\n",
       "      <th>std</th>\n",
       "      <td>17099.435405</td>\n",
       "      <td>8.905528e+62</td>\n",
       "      <td>8.583621</td>\n",
       "      <td>2.060725</td>\n",
       "      <td>3.100179</td>\n",
       "      <td>2.327456</td>\n",
       "      <td>1.799523</td>\n",
       "      <td>2.656487</td>\n",
       "    </tr>\n",
       "    <tr>\n",
       "      <th>min</th>\n",
       "      <td>73.000000</td>\n",
       "      <td>0.000000e+00</td>\n",
       "      <td>0.000000</td>\n",
       "      <td>0.000000</td>\n",
       "      <td>1.000000</td>\n",
       "      <td>1.000000</td>\n",
       "      <td>1.000000</td>\n",
       "      <td>1.000000</td>\n",
       "    </tr>\n",
       "    <tr>\n",
       "      <th>25%</th>\n",
       "      <td>13659.000000</td>\n",
       "      <td>6.500000e+04</td>\n",
       "      <td>5.000000</td>\n",
       "      <td>6.000000</td>\n",
       "      <td>4.000000</td>\n",
       "      <td>2.000000</td>\n",
       "      <td>1.000000</td>\n",
       "      <td>2.000000</td>\n",
       "    </tr>\n",
       "    <tr>\n",
       "      <th>50%</th>\n",
       "      <td>27302.000000</td>\n",
       "      <td>1.200000e+05</td>\n",
       "      <td>9.000000</td>\n",
       "      <td>7.000000</td>\n",
       "      <td>5.000000</td>\n",
       "      <td>3.000000</td>\n",
       "      <td>2.000000</td>\n",
       "      <td>3.000000</td>\n",
       "    </tr>\n",
       "    <tr>\n",
       "      <th>75%</th>\n",
       "      <td>42474.000000</td>\n",
       "      <td>2.900000e+05</td>\n",
       "      <td>16.000000</td>\n",
       "      <td>8.000000</td>\n",
       "      <td>7.000000</td>\n",
       "      <td>5.000000</td>\n",
       "      <td>3.000000</td>\n",
       "      <td>5.000000</td>\n",
       "    </tr>\n",
       "    <tr>\n",
       "      <th>max</th>\n",
       "      <td>65242.000000</td>\n",
       "      <td>1.000000e+65</td>\n",
       "      <td>50.000000</td>\n",
       "      <td>10.000000</td>\n",
       "      <td>49.000000</td>\n",
       "      <td>35.000000</td>\n",
       "      <td>27.000000</td>\n",
       "      <td>36.000000</td>\n",
       "    </tr>\n",
       "  </tbody>\n",
       "</table>\n",
       "</div>"
      ],
      "text/plain": [
       "         ResponseId     CompTotal       WorkExp        JobSat  num_languages  \\\n",
       "count  12609.000000  1.260900e+04  12609.000000  12609.000000   12609.000000   \n",
       "mean   28440.231739  7.930843e+60     11.437545      7.009041       5.971687   \n",
       "std    17099.435405  8.905528e+62      8.583621      2.060725       3.100179   \n",
       "min       73.000000  0.000000e+00      0.000000      0.000000       1.000000   \n",
       "25%    13659.000000  6.500000e+04      5.000000      6.000000       4.000000   \n",
       "50%    27302.000000  1.200000e+05      9.000000      7.000000       5.000000   \n",
       "75%    42474.000000  2.900000e+05     16.000000      8.000000       7.000000   \n",
       "max    65242.000000  1.000000e+65     50.000000     10.000000      49.000000   \n",
       "\n",
       "       num_databases  num_platforms  num_webframes  \n",
       "count   12609.000000   12609.000000   12609.000000  \n",
       "mean        3.502022       2.440955       3.807281  \n",
       "std         2.327456       1.799523       2.656487  \n",
       "min         1.000000       1.000000       1.000000  \n",
       "25%         2.000000       1.000000       2.000000  \n",
       "50%         3.000000       2.000000       3.000000  \n",
       "75%         5.000000       3.000000       5.000000  \n",
       "max        35.000000      27.000000      36.000000  "
      ]
     },
     "execution_count": 19,
     "metadata": {},
     "output_type": "execute_result"
    }
   ],
   "source": [
    "df.describe()"
   ]
  },
  {
   "cell_type": "code",
   "execution_count": 20,
   "metadata": {},
   "outputs": [],
   "source": [
    "# Detect outliers\n",
    "\n",
    "# Function to get the number of outliers using IQR (Interquantile Range) method:\n",
    "\n",
    "def outliers_iqr(df, columns, iqr_multiplier = 1.5):\n",
    "    \n",
    "    \"\"\"Detect outliers in columns in a dataframe using the IQR method and returns a dataframe with # outliers, \n",
    "    IQR value, and upper and lower limits.\n",
    "    Parameters:\n",
    "    df: dataframe\n",
    "    columns: list of columns names to detect outliers \n",
    "    iqr_multiplier: default value 1.5 (the closest to what Gaussian Distribution considers for outlier detection)\n",
    "    \n",
    "    Returns:\n",
    "    results_df: dataframe with the results of the oultier detection\"\"\"\n",
    "    \n",
    "    results = []\n",
    "    for column in columns:\n",
    "        # Calculate quartiles and IQR\n",
    "        q1, q3 = np.quantile(df[column], [0.25,0.75])\n",
    "        iqr = q3 - q1\n",
    "        \n",
    "        # Calculate lower and upper limits\n",
    "        lower_limit = q1 - iqr_multiplier * iqr\n",
    "        upper_limit = q3 + iqr_multiplier * iqr\n",
    "        \n",
    "        # Count the number of outilers\n",
    "        num_outliers = ((df[column] < lower_limit) | (df[column] > upper_limit)).sum()\n",
    "\n",
    "         # Calculate the percentage of outliers\n",
    "        total_values = len(df[column])\n",
    "        outlier_percentage = (num_outliers / total_values) * 100\n",
    "        \n",
    "        # Store results in a dictionary\n",
    "        result = {\n",
    "            'Column' : column,\n",
    "            'IQR': iqr,\n",
    "            'Lower limit': lower_limit,\n",
    "            'Upper limit': upper_limit,\n",
    "            'Num Outliers': num_outliers,\n",
    "            'Outlier Percentage': round(outlier_percentage, 2)  # Rounded to 2 decimal places\n",
    "        }\n",
    "        \n",
    "        results.append(result)\n",
    "    \n",
    "    # Convert results to a dataframe and return it\n",
    "    results_df = pd.DataFrame(results)\n",
    "    results_df = results_df[['Column','IQR','Lower limit','Upper limit','Num Outliers','Outlier Percentage']]\n",
    "    \n",
    "    return results_df"
   ]
  },
  {
   "cell_type": "code",
   "execution_count": 21,
   "metadata": {},
   "outputs": [
    {
     "data": {
      "text/html": [
       "<div>\n",
       "<style scoped>\n",
       "    .dataframe tbody tr th:only-of-type {\n",
       "        vertical-align: middle;\n",
       "    }\n",
       "\n",
       "    .dataframe tbody tr th {\n",
       "        vertical-align: top;\n",
       "    }\n",
       "\n",
       "    .dataframe thead th {\n",
       "        text-align: right;\n",
       "    }\n",
       "</style>\n",
       "<table border=\"1\" class=\"dataframe\">\n",
       "  <thead>\n",
       "    <tr style=\"text-align: right;\">\n",
       "      <th></th>\n",
       "      <th>Column</th>\n",
       "      <th>IQR</th>\n",
       "      <th>Lower limit</th>\n",
       "      <th>Upper limit</th>\n",
       "      <th>Num Outliers</th>\n",
       "      <th>Outlier Percentage</th>\n",
       "    </tr>\n",
       "  </thead>\n",
       "  <tbody>\n",
       "    <tr>\n",
       "      <th>0</th>\n",
       "      <td>CompTotal</td>\n",
       "      <td>225000.0</td>\n",
       "      <td>-272500.0</td>\n",
       "      <td>627500.0</td>\n",
       "      <td>2194</td>\n",
       "      <td>17.40</td>\n",
       "    </tr>\n",
       "    <tr>\n",
       "      <th>1</th>\n",
       "      <td>WorkExp</td>\n",
       "      <td>11.0</td>\n",
       "      <td>-11.5</td>\n",
       "      <td>32.5</td>\n",
       "      <td>347</td>\n",
       "      <td>2.75</td>\n",
       "    </tr>\n",
       "    <tr>\n",
       "      <th>2</th>\n",
       "      <td>JobSat</td>\n",
       "      <td>2.0</td>\n",
       "      <td>3.0</td>\n",
       "      <td>11.0</td>\n",
       "      <td>553</td>\n",
       "      <td>4.39</td>\n",
       "    </tr>\n",
       "    <tr>\n",
       "      <th>3</th>\n",
       "      <td>num_languages</td>\n",
       "      <td>3.0</td>\n",
       "      <td>-0.5</td>\n",
       "      <td>11.5</td>\n",
       "      <td>643</td>\n",
       "      <td>5.10</td>\n",
       "    </tr>\n",
       "    <tr>\n",
       "      <th>4</th>\n",
       "      <td>num_databases</td>\n",
       "      <td>3.0</td>\n",
       "      <td>-2.5</td>\n",
       "      <td>9.5</td>\n",
       "      <td>272</td>\n",
       "      <td>2.16</td>\n",
       "    </tr>\n",
       "    <tr>\n",
       "      <th>5</th>\n",
       "      <td>num_platforms</td>\n",
       "      <td>2.0</td>\n",
       "      <td>-2.0</td>\n",
       "      <td>6.0</td>\n",
       "      <td>439</td>\n",
       "      <td>3.48</td>\n",
       "    </tr>\n",
       "    <tr>\n",
       "      <th>6</th>\n",
       "      <td>num_webframes</td>\n",
       "      <td>3.0</td>\n",
       "      <td>-2.5</td>\n",
       "      <td>9.5</td>\n",
       "      <td>453</td>\n",
       "      <td>3.59</td>\n",
       "    </tr>\n",
       "  </tbody>\n",
       "</table>\n",
       "</div>"
      ],
      "text/plain": [
       "          Column       IQR  Lower limit  Upper limit  Num Outliers  \\\n",
       "0      CompTotal  225000.0    -272500.0     627500.0          2194   \n",
       "1        WorkExp      11.0        -11.5         32.5           347   \n",
       "2         JobSat       2.0          3.0         11.0           553   \n",
       "3  num_languages       3.0         -0.5         11.5           643   \n",
       "4  num_databases       3.0         -2.5          9.5           272   \n",
       "5  num_platforms       2.0         -2.0          6.0           439   \n",
       "6  num_webframes       3.0         -2.5          9.5           453   \n",
       "\n",
       "   Outlier Percentage  \n",
       "0               17.40  \n",
       "1                2.75  \n",
       "2                4.39  \n",
       "3                5.10  \n",
       "4                2.16  \n",
       "5                3.48  \n",
       "6                3.59  "
      ]
     },
     "execution_count": 21,
     "metadata": {},
     "output_type": "execute_result"
    }
   ],
   "source": [
    "columns_num = ['CompTotal' ,'WorkExp',\t'JobSat', 'num_languages', 'num_databases' ,'num_platforms', 'num_webframes']\n",
    "outliers_df = outliers_iqr(df, columns_num)\n",
    "outliers_df"
   ]
  },
  {
   "cell_type": "code",
   "execution_count": 22,
   "metadata": {},
   "outputs": [
    {
     "data": {
      "image/png": "[encoded data removed]",
      "text/plain": [
       "<Figure size 600x400 with 1 Axes>"
      ]
     },
     "metadata": {},
     "output_type": "display_data"
    }
   ],
   "source": [
    "# Creating a Boxplot of compensation variable\n",
    "plt.figure(figsize=(6,4))\n",
    "sns.boxplot(y=df['CompTotal'])\n",
    "plt.title(\"Salary Distribution\")\n",
    "plt.ylabel(\"Salary\")\n",
    "plt.show()"
   ]
  },
  {
   "cell_type": "code",
   "execution_count": 24,
   "metadata": {},
   "outputs": [
    {
     "name": "stdout",
     "output_type": "stream",
     "text": [
      "Number of rows in the top 5% highest salaries: 631\n"
     ]
    }
   ],
   "source": [
    "threshold = df['CompTotal'].quantile(0.95)\n",
    "top_5_count = (df['CompTotal'] >= threshold).sum()\n",
    "print(f\"Number of rows in the top 5% highest salaries: {top_5_count}\")"
   ]
  },
  {
   "cell_type": "code",
   "execution_count": 25,
   "metadata": {},
   "outputs": [
    {
     "data": {
      "text/html": [
       "<div>\n",
       "<style scoped>\n",
       "    .dataframe tbody tr th:only-of-type {\n",
       "        vertical-align: middle;\n",
       "    }\n",
       "\n",
       "    .dataframe tbody tr th {\n",
       "        vertical-align: top;\n",
       "    }\n",
       "\n",
       "    .dataframe thead th {\n",
       "        text-align: right;\n",
       "    }\n",
       "</style>\n",
       "<table border=\"1\" class=\"dataframe\">\n",
       "  <thead>\n",
       "    <tr style=\"text-align: right;\">\n",
       "      <th></th>\n",
       "      <th>ResponseId</th>\n",
       "      <th>CompTotal</th>\n",
       "      <th>WorkExp</th>\n",
       "      <th>JobSat</th>\n",
       "      <th>num_languages</th>\n",
       "      <th>num_databases</th>\n",
       "      <th>num_platforms</th>\n",
       "      <th>num_webframes</th>\n",
       "    </tr>\n",
       "  </thead>\n",
       "  <tbody>\n",
       "    <tr>\n",
       "      <th>count</th>\n",
       "      <td>631.000000</td>\n",
       "      <td>6.310000e+02</td>\n",
       "      <td>631.000000</td>\n",
       "      <td>631.000000</td>\n",
       "      <td>631.000000</td>\n",
       "      <td>631.000000</td>\n",
       "      <td>631.000000</td>\n",
       "      <td>631.000000</td>\n",
       "    </tr>\n",
       "    <tr>\n",
       "      <th>mean</th>\n",
       "      <td>27241.830428</td>\n",
       "      <td>1.584786e+62</td>\n",
       "      <td>9.584786</td>\n",
       "      <td>6.969889</td>\n",
       "      <td>6.033281</td>\n",
       "      <td>4.155309</td>\n",
       "      <td>2.887480</td>\n",
       "      <td>4.511886</td>\n",
       "    </tr>\n",
       "    <tr>\n",
       "      <th>std</th>\n",
       "      <td>16979.964361</td>\n",
       "      <td>3.980937e+63</td>\n",
       "      <td>7.396397</td>\n",
       "      <td>2.004926</td>\n",
       "      <td>4.136232</td>\n",
       "      <td>2.968827</td>\n",
       "      <td>2.438778</td>\n",
       "      <td>3.571417</td>\n",
       "    </tr>\n",
       "    <tr>\n",
       "      <th>min</th>\n",
       "      <td>489.000000</td>\n",
       "      <td>4.200000e+06</td>\n",
       "      <td>0.000000</td>\n",
       "      <td>0.000000</td>\n",
       "      <td>1.000000</td>\n",
       "      <td>1.000000</td>\n",
       "      <td>1.000000</td>\n",
       "      <td>1.000000</td>\n",
       "    </tr>\n",
       "    <tr>\n",
       "      <th>25%</th>\n",
       "      <td>13463.000000</td>\n",
       "      <td>6.733972e+06</td>\n",
       "      <td>5.000000</td>\n",
       "      <td>6.000000</td>\n",
       "      <td>4.000000</td>\n",
       "      <td>2.000000</td>\n",
       "      <td>1.000000</td>\n",
       "      <td>2.000000</td>\n",
       "    </tr>\n",
       "    <tr>\n",
       "      <th>50%</th>\n",
       "      <td>24116.000000</td>\n",
       "      <td>1.600000e+07</td>\n",
       "      <td>8.000000</td>\n",
       "      <td>7.000000</td>\n",
       "      <td>5.000000</td>\n",
       "      <td>4.000000</td>\n",
       "      <td>2.000000</td>\n",
       "      <td>4.000000</td>\n",
       "    </tr>\n",
       "    <tr>\n",
       "      <th>75%</th>\n",
       "      <td>40533.500000</td>\n",
       "      <td>7.650000e+07</td>\n",
       "      <td>13.000000</td>\n",
       "      <td>8.000000</td>\n",
       "      <td>8.000000</td>\n",
       "      <td>5.000000</td>\n",
       "      <td>4.000000</td>\n",
       "      <td>6.000000</td>\n",
       "    </tr>\n",
       "    <tr>\n",
       "      <th>max</th>\n",
       "      <td>64661.000000</td>\n",
       "      <td>1.000000e+65</td>\n",
       "      <td>50.000000</td>\n",
       "      <td>10.000000</td>\n",
       "      <td>49.000000</td>\n",
       "      <td>35.000000</td>\n",
       "      <td>27.000000</td>\n",
       "      <td>36.000000</td>\n",
       "    </tr>\n",
       "  </tbody>\n",
       "</table>\n",
       "</div>"
      ],
      "text/plain": [
       "         ResponseId     CompTotal     WorkExp      JobSat  num_languages  \\\n",
       "count    631.000000  6.310000e+02  631.000000  631.000000     631.000000   \n",
       "mean   27241.830428  1.584786e+62    9.584786    6.969889       6.033281   \n",
       "std    16979.964361  3.980937e+63    7.396397    2.004926       4.136232   \n",
       "min      489.000000  4.200000e+06    0.000000    0.000000       1.000000   \n",
       "25%    13463.000000  6.733972e+06    5.000000    6.000000       4.000000   \n",
       "50%    24116.000000  1.600000e+07    8.000000    7.000000       5.000000   \n",
       "75%    40533.500000  7.650000e+07   13.000000    8.000000       8.000000   \n",
       "max    64661.000000  1.000000e+65   50.000000   10.000000      49.000000   \n",
       "\n",
       "       num_databases  num_platforms  num_webframes  \n",
       "count     631.000000     631.000000     631.000000  \n",
       "mean        4.155309       2.887480       4.511886  \n",
       "std         2.968827       2.438778       3.571417  \n",
       "min         1.000000       1.000000       1.000000  \n",
       "25%         2.000000       1.000000       2.000000  \n",
       "50%         4.000000       2.000000       4.000000  \n",
       "75%         5.000000       4.000000       6.000000  \n",
       "max        35.000000      27.000000      36.000000  "
      ]
     },
     "execution_count": 25,
     "metadata": {},
     "output_type": "execute_result"
    }
   ],
   "source": [
    "top_5_salaries = df[df['CompTotal'] >= threshold]\n",
    "top_5_salaries.describe()"
   ]
  },
  {
   "cell_type": "code",
   "execution_count": 26,
   "metadata": {},
   "outputs": [],
   "source": [
    "# Remove Rows with Salaries in the Top 5%\n",
    "df_cleaned = df[df['CompTotal'] < threshold].reset_index(drop=True)"
   ]
  },
  {
   "cell_type": "code",
   "execution_count": 27,
   "metadata": {},
   "outputs": [
    {
     "data": {
      "image/png": "[encoded data removed]",
      "text/plain": [
       "<Figure size 600x400 with 1 Axes>"
      ]
     },
     "metadata": {},
     "output_type": "display_data"
    }
   ],
   "source": [
    "# Creating a Boxplot of compensation variable\n",
    "plt.figure(figsize=(6,4))\n",
    "sns.boxplot(y=df_cleaned['CompTotal'])\n",
    "plt.title(\"Salary Distribution\")\n",
    "plt.ylabel(\"Salary\")\n",
    "plt.show()"
   ]
  },
  {
   "cell_type": "code",
   "execution_count": 28,
   "metadata": {},
   "outputs": [
    {
     "data": {
      "text/html": [
       "<div>\n",
       "<style scoped>\n",
       "    .dataframe tbody tr th:only-of-type {\n",
       "        vertical-align: middle;\n",
       "    }\n",
       "\n",
       "    .dataframe tbody tr th {\n",
       "        vertical-align: top;\n",
       "    }\n",
       "\n",
       "    .dataframe thead th {\n",
       "        text-align: right;\n",
       "    }\n",
       "</style>\n",
       "<table border=\"1\" class=\"dataframe\">\n",
       "  <thead>\n",
       "    <tr style=\"text-align: right;\">\n",
       "      <th></th>\n",
       "      <th>Column</th>\n",
       "      <th>IQR</th>\n",
       "      <th>Lower limit</th>\n",
       "      <th>Upper limit</th>\n",
       "      <th>Num Outliers</th>\n",
       "      <th>Outlier Percentage</th>\n",
       "    </tr>\n",
       "  </thead>\n",
       "  <tbody>\n",
       "    <tr>\n",
       "      <th>0</th>\n",
       "      <td>CompTotal</td>\n",
       "      <td>160000.0</td>\n",
       "      <td>-177000.0</td>\n",
       "      <td>463000.0</td>\n",
       "      <td>1961</td>\n",
       "      <td>16.37</td>\n",
       "    </tr>\n",
       "    <tr>\n",
       "      <th>1</th>\n",
       "      <td>WorkExp</td>\n",
       "      <td>11.0</td>\n",
       "      <td>-11.5</td>\n",
       "      <td>32.5</td>\n",
       "      <td>335</td>\n",
       "      <td>2.80</td>\n",
       "    </tr>\n",
       "    <tr>\n",
       "      <th>2</th>\n",
       "      <td>JobSat</td>\n",
       "      <td>2.0</td>\n",
       "      <td>3.0</td>\n",
       "      <td>11.0</td>\n",
       "      <td>531</td>\n",
       "      <td>4.43</td>\n",
       "    </tr>\n",
       "    <tr>\n",
       "      <th>3</th>\n",
       "      <td>num_languages</td>\n",
       "      <td>3.0</td>\n",
       "      <td>-0.5</td>\n",
       "      <td>11.5</td>\n",
       "      <td>600</td>\n",
       "      <td>5.01</td>\n",
       "    </tr>\n",
       "    <tr>\n",
       "      <th>4</th>\n",
       "      <td>num_databases</td>\n",
       "      <td>3.0</td>\n",
       "      <td>-2.5</td>\n",
       "      <td>9.5</td>\n",
       "      <td>245</td>\n",
       "      <td>2.05</td>\n",
       "    </tr>\n",
       "    <tr>\n",
       "      <th>5</th>\n",
       "      <td>num_platforms</td>\n",
       "      <td>2.0</td>\n",
       "      <td>-2.0</td>\n",
       "      <td>6.0</td>\n",
       "      <td>392</td>\n",
       "      <td>3.27</td>\n",
       "    </tr>\n",
       "    <tr>\n",
       "      <th>6</th>\n",
       "      <td>num_webframes</td>\n",
       "      <td>3.0</td>\n",
       "      <td>-2.5</td>\n",
       "      <td>9.5</td>\n",
       "      <td>405</td>\n",
       "      <td>3.38</td>\n",
       "    </tr>\n",
       "  </tbody>\n",
       "</table>\n",
       "</div>"
      ],
      "text/plain": [
       "          Column       IQR  Lower limit  Upper limit  Num Outliers  \\\n",
       "0      CompTotal  160000.0    -177000.0     463000.0          1961   \n",
       "1        WorkExp      11.0        -11.5         32.5           335   \n",
       "2         JobSat       2.0          3.0         11.0           531   \n",
       "3  num_languages       3.0         -0.5         11.5           600   \n",
       "4  num_databases       3.0         -2.5          9.5           245   \n",
       "5  num_platforms       2.0         -2.0          6.0           392   \n",
       "6  num_webframes       3.0         -2.5          9.5           405   \n",
       "\n",
       "   Outlier Percentage  \n",
       "0               16.37  \n",
       "1                2.80  \n",
       "2                4.43  \n",
       "3                5.01  \n",
       "4                2.05  \n",
       "5                3.27  \n",
       "6                3.38  "
      ]
     },
     "execution_count": 28,
     "metadata": {},
     "output_type": "execute_result"
    }
   ],
   "source": [
    "outliers_df = outliers_iqr(df_cleaned, columns_num)\n",
    "outliers_df"
   ]
  },
  {
   "cell_type": "code",
   "execution_count": 29,
   "metadata": {},
   "outputs": [
    {
     "data": {
      "text/plain": [
       "Country\n",
       "United States of America                                2777\n",
       "Germany                                                  862\n",
       "United Kingdom of Great Britain and Northern Ireland     810\n",
       "India                                                    653\n",
       "Ukraine                                                  529\n",
       "                                                        ... \n",
       "Cape Verde                                                 1\n",
       "Mongolia                                                   1\n",
       "Nomadic                                                    1\n",
       "Trinidad and Tobago                                        1\n",
       "Malawi                                                     1\n",
       "Name: count, Length: 143, dtype: int64"
      ]
     },
     "execution_count": 29,
     "metadata": {},
     "output_type": "execute_result"
    }
   ],
   "source": [
    "df_cleaned['Country'].value_counts()"
   ]
  },
  {
   "cell_type": "code",
   "execution_count": 32,
   "metadata": {},
   "outputs": [
    {
     "name": "stdout",
     "output_type": "stream",
     "text": [
      "['Pakistan', 'Turkey', 'United States of America', 'United Kingdom of Great Britain and Northern Ireland', 'Brazil', 'South Africa', 'France', 'Canada', 'Ukraine', 'Germany', 'Bolivia', 'Morocco', 'India', 'Georgia', 'Ireland', 'Italy', 'Spain', 'Switzerland', 'Lithuania', 'Netherlands', 'Romania', 'Latvia', 'Sweden', 'Austria', 'Portugal', 'Cyprus', 'Czech Republic', 'Israel', 'Serbia', 'Russian Federation', 'Bangladesh', 'Denmark', 'Poland', 'Saudi Arabia', 'Mexico', 'Bulgaria', 'Slovakia', 'Algeria', 'Venezuela, Bolivarian Republic of...', 'Malaysia', 'Finland', 'Malta', 'Belgium', 'Croatia', 'Argentina', 'Slovenia', 'Isle of Man', 'Palestine', 'Ecuador', 'Greece', 'Paraguay', 'Guatemala', 'New Zealand', 'Egypt', 'Nigeria', 'South Korea', 'Hungary', 'Peru', 'Australia', 'Philippines', 'Japan', 'United Arab Emirates', 'Thailand', 'Uruguay', 'Hong Kong (S.A.R.)', 'China', 'Sri Lanka', 'Singapore', 'Armenia', 'Nepal', 'Norway', 'Taiwan', 'Lebanon', 'Iran, Islamic Republic of...', 'Benin', 'Democratic Republic of the Congo', 'Syrian Arab Republic', 'Namibia', 'Kyrgyzstan', \"Lao People's Democratic Republic\", 'Estonia', 'Tunisia', 'Viet Nam', 'Dominican Republic', 'Burundi', 'Kazakhstan', 'Rwanda', 'Sierra Leone', 'Panama', 'Cuba', 'Costa Rica', 'Uzbekistan', 'Colombia', 'Ethiopia', 'Jordan', 'Jamaica', 'Ghana', 'Andorra', 'Republic of North Macedonia', 'Bosnia and Herzegovina', 'Kuwait', 'Qatar', 'Kenya', 'Luxembourg', 'Belarus', 'Sudan', 'Mauritius', 'Indonesia', 'Afghanistan', 'Maldives', 'Kosovo', 'Angola', \"Côte d'Ivoire\", 'Republic of Moldova', 'Zambia', 'Turkmenistan', 'Albania', 'Oman', 'Azerbaijan', 'Myanmar', 'Montenegro', 'Chile', 'Libyan Arab Jamahiriya', 'Nicaragua', 'Bahrain', 'Bhutan', 'Zimbabwe', 'Iceland', 'Mozambique', 'Honduras', 'Senegal', 'Cambodia', 'Iraq', 'Cameroon', 'Barbados', 'United Republic of Tanzania', 'Suriname', 'Cape Verde', 'El Salvador', 'Mongolia', 'Nomadic', 'Trinidad and Tobago', 'Malawi']\n"
     ]
    }
   ],
   "source": [
    "print(list(df_cleaned['Country'].unique()))"
   ]
  },
  {
   "cell_type": "code",
   "execution_count": 33,
   "metadata": {},
   "outputs": [],
   "source": [
    "# Country to continent mapping\n",
    "country_to_continent = {\n",
    "    'Pakistan': 'Asia', 'Turkey': 'Asia', 'United States of America': 'North America', \n",
    "    'United Kingdom of Great Britain and Northern Ireland': 'Europe', 'Brazil': 'South America', \n",
    "    'South Africa': 'Africa', 'France': 'Europe', 'Canada': 'North America', 'Ukraine': 'Europe', \n",
    "    'Germany': 'Europe', 'Bolivia': 'South America', 'Morocco': 'Africa', 'India': 'Asia', \n",
    "    'Georgia': 'Asia', 'Ireland': 'Europe', 'Italy': 'Europe', 'Spain': 'Europe', \n",
    "    'Switzerland': 'Europe', 'Lithuania': 'Europe', 'Netherlands': 'Europe', 'Romania': 'Europe', \n",
    "    'Latvia': 'Europe', 'Sweden': 'Europe', 'Austria': 'Europe', 'Portugal': 'Europe', \n",
    "    'Cyprus': 'Asia', 'Czech Republic': 'Europe', 'Israel': 'Asia', 'Serbia': 'Europe', \n",
    "    'Russian Federation': 'Asia', 'Bangladesh': 'Asia', 'Denmark': 'Europe', 'Poland': 'Europe', \n",
    "    'Saudi Arabia': 'Asia', 'Mexico': 'North America', 'Bulgaria': 'Europe', 'Slovakia': 'Europe', \n",
    "    'Algeria': 'Africa', 'Venezuela, Bolivarian Republic of...': 'South America', 'Malaysia': 'Asia', \n",
    "    'Finland': 'Europe', 'Malta': 'Europe', 'Belgium': 'Europe', 'Croatia': 'Europe', \n",
    "    'Argentina': 'South America', 'Slovenia': 'Europe', 'Isle of Man': 'Europe', 'Palestine': 'Asia', \n",
    "    'Ecuador': 'South America', 'Greece': 'Europe', 'Paraguay': 'South America', 'Guatemala': 'North America', \n",
    "    'New Zealand': 'Oceania', 'Egypt': 'Africa', 'Nigeria': 'Africa', 'South Korea': 'Asia', \n",
    "    'Hungary': 'Europe', 'Peru': 'South America', 'Australia': 'Oceania', 'Philippines': 'Asia', \n",
    "    'Japan': 'Asia', 'United Arab Emirates': 'Asia', 'Thailand': 'Asia', 'Uruguay': 'South America', \n",
    "    'Hong Kong (S.A.R.)': 'Asia', 'China': 'Asia', 'Sri Lanka': 'Asia', 'Singapore': 'Asia', \n",
    "    'Armenia': 'Asia', 'Nepal': 'Asia', 'Norway': 'Europe', 'Taiwan': 'Asia', 'Lebanon': 'Asia', \n",
    "    'Iran, Islamic Republic of...': 'Asia', 'Benin': 'Africa', 'Democratic Republic of the Congo': 'Africa', \n",
    "    'Syrian Arab Republic': 'Asia', 'Namibia': 'Africa', 'Kyrgyzstan': 'Asia', \"Lao People's Democratic Republic\": 'Asia', \n",
    "    'Estonia': 'Europe', 'Tunisia': 'Africa', 'Viet Nam': 'Asia', 'Dominican Republic': 'North America', \n",
    "    'Burundi': 'Africa', 'Kazakhstan': 'Asia', 'Rwanda': 'Africa', 'Sierra Leone': 'Africa', \n",
    "    'Panama': 'North America', 'Cuba': 'North America', 'Costa Rica': 'North America', 'Uzbekistan': 'Asia', \n",
    "    'Colombia': 'South America', 'Ethiopia': 'Africa', 'Jordan': 'Asia', 'Jamaica': 'North America', \n",
    "    'Ghana': 'Africa', 'Andorra': 'Europe', 'Republic of North Macedonia': 'Europe', \n",
    "    'Bosnia and Herzegovina': 'Europe', 'Kuwait': 'Asia', 'Qatar': 'Asia', 'Kenya': 'Africa', \n",
    "    'Luxembourg': 'Europe', 'Belarus': 'Europe', 'Sudan': 'Africa', 'Mauritius': 'Africa', \n",
    "    'Indonesia': 'Asia', 'Afghanistan': 'Asia', 'Maldives': 'Asia', 'Kosovo': 'Europe', \n",
    "    'Angola': 'Africa', \"Côte d'Ivoire\": 'Africa', 'Republic of Moldova': 'Europe', 'Zambia': 'Africa', \n",
    "    'Turkmenistan': 'Asia', 'Albania': 'Europe', 'Oman': 'Asia', 'Azerbaijan': 'Asia', 'Myanmar': 'Asia', \n",
    "    'Montenegro': 'Europe', 'Chile': 'South America', 'Libyan Arab Jamahiriya': 'Africa', \n",
    "    'Nicaragua': 'North America', 'Bahrain': 'Asia', 'Bhutan': 'Asia', 'Zimbabwe': 'Africa', \n",
    "    'Iceland': 'Europe', 'Mozambique': 'Africa', 'Honduras': 'North America', 'Senegal': 'Africa', \n",
    "    'Cambodia': 'Asia', 'Iraq': 'Asia', 'Cameroon': 'Africa', 'Barbados': 'North America', \n",
    "    'United Republic of Tanzania': 'Africa', 'Suriname': 'South America', 'Cape Verde': 'Africa', \n",
    "    'El Salvador': 'North America', 'Mongolia': 'Asia', 'Nomadic': 'Other', 'Trinidad and Tobago': 'North America', \n",
    "    'Malawi': 'Africa'\n",
    "}\n",
    "\n",
    "# Mapping the country column to continents\n",
    "df_cleaned['Continent'] = df_cleaned['Country'].map(country_to_continent)\n"
   ]
  },
  {
   "cell_type": "code",
   "execution_count": 34,
   "metadata": {},
   "outputs": [],
   "source": [
    "df_cleaned = df_cleaned.drop(['Country'], axis=1)"
   ]
  },
  {
   "cell_type": "code",
   "execution_count": 35,
   "metadata": {},
   "outputs": [
    {
     "name": "stdout",
     "output_type": "stream",
     "text": [
      "Continent\n",
      "Europe           5623\n",
      "North America    3449\n",
      "Asia             1640\n",
      "South America     631\n",
      "Oceania           374\n",
      "Africa            260\n",
      "Other               1\n",
      "Name: count, dtype: int64\n"
     ]
    }
   ],
   "source": [
    "print(df_cleaned['Continent'].value_counts())"
   ]
  },
  {
   "cell_type": "code",
   "execution_count": 37,
   "metadata": {},
   "outputs": [],
   "source": [
    "# Drop row with value other in continent\n",
    "df_cleaned = df_cleaned[df_cleaned['Continent'] != 'Other'].reset_index(drop=True)"
   ]
  },
  {
   "cell_type": "markdown",
   "metadata": {},
   "source": [
    "### 5. Exploratory Data Analysis (EDA)"
   ]
  },
  {
   "cell_type": "code",
   "execution_count": 39,
   "metadata": {},
   "outputs": [
    {
     "data": {
      "text/plain": [
       "Index(['ResponseId', 'Age', 'Employment', 'RemoteWork', 'EdLevel', 'YearsCode',\n",
       "       'YearsCodePro', 'OrgSize', 'Currency', 'CompTotal', 'WorkExp',\n",
       "       'Industry', 'JobSat', 'role_category', 'num_languages', 'main_language',\n",
       "       'num_databases', 'main_database', 'num_platforms', 'main_platform',\n",
       "       'num_webframes', 'main_webframe', 'Continent'],\n",
       "      dtype='object')"
      ]
     },
     "execution_count": 39,
     "metadata": {},
     "output_type": "execute_result"
    }
   ],
   "source": [
    "df_cleaned.columns\n"
   ]
  },
  {
   "cell_type": "code",
   "execution_count": null,
   "metadata": {},
   "outputs": [
    {
     "data": {
      "text/plain": [
       "ResponseId         int64\n",
       "Age               object\n",
       "Employment        object\n",
       "RemoteWork        object\n",
       "EdLevel           object\n",
       "YearsCode         object\n",
       "YearsCodePro      object\n",
       "OrgSize           object\n",
       "Currency          object\n",
       "CompTotal        float64\n",
       "WorkExp          float64\n",
       "Industry          object\n",
       "JobSat           float64\n",
       "role_category     object\n",
       "num_languages      int64\n",
       "main_language     object\n",
       "num_databases      int64\n",
       "main_database     object\n",
       "num_platforms      int64\n",
       "main_platform     object\n",
       "num_webframes      int64\n",
       "main_webframe     object\n",
       "Continent         object\n",
       "dtype: object"
      ]
     },
     "execution_count": 40,
     "metadata": {},
     "output_type": "execute_result"
    }
   ],
   "source": [
    "# Check Data Types\n",
    "df_cleaned.dtypes"
   ]
  },
  {
   "cell_type": "markdown",
   "metadata": {},
   "source": [
    "- Age is category: later in section feature engineering i will change it to code.\n",
    "- YearsCode and YearsCodePro are object type however they have values in numbers i will transform them to int.\n"
   ]
  },
  {
   "cell_type": "code",
   "execution_count": 46,
   "metadata": {},
   "outputs": [
    {
     "data": {
      "image/png": "[encoded data removed]",
      "text/plain": [
       "<Figure size 1000x600 with 1 Axes>"
      ]
     },
     "metadata": {},
     "output_type": "display_data"
    }
   ],
   "source": [
    "# Target variable\n",
    "# Histogram of Salary distribution\n",
    "sns.set_style('dark')\n",
    "plt.figure(figsize=(10,6))\n",
    "sns.histplot(df_cleaned['CompTotal'], kde=True, color='green', bins=30)\n",
    "plt.title('Distribution of Salary')\n",
    "plt.xlabel('Salary')\n",
    "plt.ylabel('Frequency')\n",
    "plt.show()"
   ]
  },
  {
   "cell_type": "code",
   "execution_count": 47,
   "metadata": {},
   "outputs": [
    {
     "ename": "ValueError",
     "evalue": "Could not interpret value `Edlevel` for `x`. An entry with this name does not appear in `data`.",
     "output_type": "error",
     "traceback": [
      "\u001b[31m---------------------------------------------------------------------------\u001b[39m",
      "\u001b[31mValueError\u001b[39m                                Traceback (most recent call last)",
      "\u001b[36mCell\u001b[39m\u001b[36m \u001b[39m\u001b[32mIn[47]\u001b[39m\u001b[32m, line 12\u001b[39m\n\u001b[32m      9\u001b[39m axes[\u001b[32m0\u001b[39m].set_ylabel(\u001b[33m'\u001b[39m\u001b[33mCount\u001b[39m\u001b[33m'\u001b[39m)\n\u001b[32m     11\u001b[39m \u001b[38;5;66;03m# Plot for 'Edlevel'\u001b[39;00m\n\u001b[32m---> \u001b[39m\u001b[32m12\u001b[39m \u001b[43msns\u001b[49m\u001b[43m.\u001b[49m\u001b[43mcountplot\u001b[49m\u001b[43m(\u001b[49m\u001b[43mx\u001b[49m\u001b[43m=\u001b[49m\u001b[33;43m'\u001b[39;49m\u001b[33;43mEdlevel\u001b[39;49m\u001b[33;43m'\u001b[39;49m\u001b[43m,\u001b[49m\u001b[43m \u001b[49m\u001b[43mdata\u001b[49m\u001b[43m=\u001b[49m\u001b[43mdf_cleaned\u001b[49m\u001b[43m,\u001b[49m\u001b[43m \u001b[49m\u001b[43max\u001b[49m\u001b[43m=\u001b[49m\u001b[43maxes\u001b[49m\u001b[43m[\u001b[49m\u001b[32;43m1\u001b[39;49m\u001b[43m]\u001b[49m\u001b[43m)\u001b[49m\n\u001b[32m     13\u001b[39m axes[\u001b[32m1\u001b[39m].set_title(\u001b[33m'\u001b[39m\u001b[33mDistribution of Education Level\u001b[39m\u001b[33m'\u001b[39m)\n\u001b[32m     14\u001b[39m axes[\u001b[32m1\u001b[39m].set_xlabel(\u001b[33m'\u001b[39m\u001b[33mEducation Level\u001b[39m\u001b[33m'\u001b[39m)\n",
      "\u001b[36mFile \u001b[39m\u001b[32mc:\\Users\\Carolina\\Documents\\GitHub\\udacity_project_data_science_blog\\.venv\\Lib\\site-packages\\seaborn\\categorical.py:2631\u001b[39m, in \u001b[36mcountplot\u001b[39m\u001b[34m(data, x, y, hue, order, hue_order, orient, color, palette, saturation, fill, hue_norm, stat, width, dodge, gap, log_scale, native_scale, formatter, legend, ax, **kwargs)\u001b[39m\n\u001b[32m   2628\u001b[39m \u001b[38;5;28;01melif\u001b[39;00m x \u001b[38;5;129;01mis\u001b[39;00m \u001b[38;5;129;01mnot\u001b[39;00m \u001b[38;5;28;01mNone\u001b[39;00m \u001b[38;5;129;01mand\u001b[39;00m y \u001b[38;5;129;01mis\u001b[39;00m \u001b[38;5;129;01mnot\u001b[39;00m \u001b[38;5;28;01mNone\u001b[39;00m:\n\u001b[32m   2629\u001b[39m     \u001b[38;5;28;01mraise\u001b[39;00m \u001b[38;5;167;01mTypeError\u001b[39;00m(\u001b[33m\"\u001b[39m\u001b[33mCannot pass values for both `x` and `y`.\u001b[39m\u001b[33m\"\u001b[39m)\n\u001b[32m-> \u001b[39m\u001b[32m2631\u001b[39m p = \u001b[43m_CategoricalAggPlotter\u001b[49m\u001b[43m(\u001b[49m\n\u001b[32m   2632\u001b[39m \u001b[43m    \u001b[49m\u001b[43mdata\u001b[49m\u001b[43m=\u001b[49m\u001b[43mdata\u001b[49m\u001b[43m,\u001b[49m\n\u001b[32m   2633\u001b[39m \u001b[43m    \u001b[49m\u001b[43mvariables\u001b[49m\u001b[43m=\u001b[49m\u001b[38;5;28;43mdict\u001b[39;49m\u001b[43m(\u001b[49m\u001b[43mx\u001b[49m\u001b[43m=\u001b[49m\u001b[43mx\u001b[49m\u001b[43m,\u001b[49m\u001b[43m \u001b[49m\u001b[43my\u001b[49m\u001b[43m=\u001b[49m\u001b[43my\u001b[49m\u001b[43m,\u001b[49m\u001b[43m \u001b[49m\u001b[43mhue\u001b[49m\u001b[43m=\u001b[49m\u001b[43mhue\u001b[49m\u001b[43m)\u001b[49m\u001b[43m,\u001b[49m\n\u001b[32m   2634\u001b[39m \u001b[43m    \u001b[49m\u001b[43morder\u001b[49m\u001b[43m=\u001b[49m\u001b[43morder\u001b[49m\u001b[43m,\u001b[49m\n\u001b[32m   2635\u001b[39m \u001b[43m    \u001b[49m\u001b[43morient\u001b[49m\u001b[43m=\u001b[49m\u001b[43morient\u001b[49m\u001b[43m,\u001b[49m\n\u001b[32m   2636\u001b[39m \u001b[43m    \u001b[49m\u001b[43mcolor\u001b[49m\u001b[43m=\u001b[49m\u001b[43mcolor\u001b[49m\u001b[43m,\u001b[49m\n\u001b[32m   2637\u001b[39m \u001b[43m    \u001b[49m\u001b[43mlegend\u001b[49m\u001b[43m=\u001b[49m\u001b[43mlegend\u001b[49m\u001b[43m,\u001b[49m\n\u001b[32m   2638\u001b[39m \u001b[43m\u001b[49m\u001b[43m)\u001b[49m\n\u001b[32m   2640\u001b[39m \u001b[38;5;28;01mif\u001b[39;00m ax \u001b[38;5;129;01mis\u001b[39;00m \u001b[38;5;28;01mNone\u001b[39;00m:\n\u001b[32m   2641\u001b[39m     ax = plt.gca()\n",
      "\u001b[36mFile \u001b[39m\u001b[32mc:\\Users\\Carolina\\Documents\\GitHub\\udacity_project_data_science_blog\\.venv\\Lib\\site-packages\\seaborn\\categorical.py:67\u001b[39m, in \u001b[36m_CategoricalPlotter.__init__\u001b[39m\u001b[34m(self, data, variables, order, orient, require_numeric, color, legend)\u001b[39m\n\u001b[32m     56\u001b[39m \u001b[38;5;28;01mdef\u001b[39;00m\u001b[38;5;250m \u001b[39m\u001b[34m__init__\u001b[39m(\n\u001b[32m     57\u001b[39m     \u001b[38;5;28mself\u001b[39m,\n\u001b[32m     58\u001b[39m     data=\u001b[38;5;28;01mNone\u001b[39;00m,\n\u001b[32m   (...)\u001b[39m\u001b[32m     64\u001b[39m     legend=\u001b[33m\"\u001b[39m\u001b[33mauto\u001b[39m\u001b[33m\"\u001b[39m,\n\u001b[32m     65\u001b[39m ):\n\u001b[32m---> \u001b[39m\u001b[32m67\u001b[39m     \u001b[38;5;28;43msuper\u001b[39;49m\u001b[43m(\u001b[49m\u001b[43m)\u001b[49m\u001b[43m.\u001b[49m\u001b[34;43m__init__\u001b[39;49m\u001b[43m(\u001b[49m\u001b[43mdata\u001b[49m\u001b[43m=\u001b[49m\u001b[43mdata\u001b[49m\u001b[43m,\u001b[49m\u001b[43m \u001b[49m\u001b[43mvariables\u001b[49m\u001b[43m=\u001b[49m\u001b[43mvariables\u001b[49m\u001b[43m)\u001b[49m\n\u001b[32m     69\u001b[39m     \u001b[38;5;66;03m# This method takes care of some bookkeeping that is necessary because the\u001b[39;00m\n\u001b[32m     70\u001b[39m     \u001b[38;5;66;03m# original categorical plots (prior to the 2021 refactor) had some rules that\u001b[39;00m\n\u001b[32m     71\u001b[39m     \u001b[38;5;66;03m# don't fit exactly into VectorPlotter logic. It may be wise to have a second\u001b[39;00m\n\u001b[32m   (...)\u001b[39m\u001b[32m     76\u001b[39m     \u001b[38;5;66;03m# default VectorPlotter rules. If we do decide to make orient part of the\u001b[39;00m\n\u001b[32m     77\u001b[39m     \u001b[38;5;66;03m# _base variable assignment, we'll want to figure out how to express that.\u001b[39;00m\n\u001b[32m     78\u001b[39m     \u001b[38;5;28;01mif\u001b[39;00m \u001b[38;5;28mself\u001b[39m.input_format == \u001b[33m\"\u001b[39m\u001b[33mwide\u001b[39m\u001b[33m\"\u001b[39m \u001b[38;5;129;01mand\u001b[39;00m orient \u001b[38;5;129;01min\u001b[39;00m [\u001b[33m\"\u001b[39m\u001b[33mh\u001b[39m\u001b[33m\"\u001b[39m, \u001b[33m\"\u001b[39m\u001b[33my\u001b[39m\u001b[33m\"\u001b[39m]:\n",
      "\u001b[36mFile \u001b[39m\u001b[32mc:\\Users\\Carolina\\Documents\\GitHub\\udacity_project_data_science_blog\\.venv\\Lib\\site-packages\\seaborn\\_base.py:634\u001b[39m, in \u001b[36mVectorPlotter.__init__\u001b[39m\u001b[34m(self, data, variables)\u001b[39m\n\u001b[32m    629\u001b[39m \u001b[38;5;66;03m# var_ordered is relevant only for categorical axis variables, and may\u001b[39;00m\n\u001b[32m    630\u001b[39m \u001b[38;5;66;03m# be better handled by an internal axis information object that tracks\u001b[39;00m\n\u001b[32m    631\u001b[39m \u001b[38;5;66;03m# such information and is set up by the scale_* methods. The analogous\u001b[39;00m\n\u001b[32m    632\u001b[39m \u001b[38;5;66;03m# information for numeric axes would be information about log scales.\u001b[39;00m\n\u001b[32m    633\u001b[39m \u001b[38;5;28mself\u001b[39m._var_ordered = {\u001b[33m\"\u001b[39m\u001b[33mx\u001b[39m\u001b[33m\"\u001b[39m: \u001b[38;5;28;01mFalse\u001b[39;00m, \u001b[33m\"\u001b[39m\u001b[33my\u001b[39m\u001b[33m\"\u001b[39m: \u001b[38;5;28;01mFalse\u001b[39;00m}  \u001b[38;5;66;03m# alt., used DefaultDict\u001b[39;00m\n\u001b[32m--> \u001b[39m\u001b[32m634\u001b[39m \u001b[38;5;28;43mself\u001b[39;49m\u001b[43m.\u001b[49m\u001b[43massign_variables\u001b[49m\u001b[43m(\u001b[49m\u001b[43mdata\u001b[49m\u001b[43m,\u001b[49m\u001b[43m \u001b[49m\u001b[43mvariables\u001b[49m\u001b[43m)\u001b[49m\n\u001b[32m    636\u001b[39m \u001b[38;5;66;03m# TODO Lots of tests assume that these are called to initialize the\u001b[39;00m\n\u001b[32m    637\u001b[39m \u001b[38;5;66;03m# mappings to default values on class initialization. I'd prefer to\u001b[39;00m\n\u001b[32m    638\u001b[39m \u001b[38;5;66;03m# move away from that and only have a mapping when explicitly called.\u001b[39;00m\n\u001b[32m    639\u001b[39m \u001b[38;5;28;01mfor\u001b[39;00m var \u001b[38;5;129;01min\u001b[39;00m [\u001b[33m\"\u001b[39m\u001b[33mhue\u001b[39m\u001b[33m\"\u001b[39m, \u001b[33m\"\u001b[39m\u001b[33msize\u001b[39m\u001b[33m\"\u001b[39m, \u001b[33m\"\u001b[39m\u001b[33mstyle\u001b[39m\u001b[33m\"\u001b[39m]:\n",
      "\u001b[36mFile \u001b[39m\u001b[32mc:\\Users\\Carolina\\Documents\\GitHub\\udacity_project_data_science_blog\\.venv\\Lib\\site-packages\\seaborn\\_base.py:679\u001b[39m, in \u001b[36mVectorPlotter.assign_variables\u001b[39m\u001b[34m(self, data, variables)\u001b[39m\n\u001b[32m    674\u001b[39m \u001b[38;5;28;01melse\u001b[39;00m:\n\u001b[32m    675\u001b[39m     \u001b[38;5;66;03m# When dealing with long-form input, use the newer PlotData\u001b[39;00m\n\u001b[32m    676\u001b[39m     \u001b[38;5;66;03m# object (internal but introduced for the objects interface)\u001b[39;00m\n\u001b[32m    677\u001b[39m     \u001b[38;5;66;03m# to centralize / standardize data consumption logic.\u001b[39;00m\n\u001b[32m    678\u001b[39m     \u001b[38;5;28mself\u001b[39m.input_format = \u001b[33m\"\u001b[39m\u001b[33mlong\u001b[39m\u001b[33m\"\u001b[39m\n\u001b[32m--> \u001b[39m\u001b[32m679\u001b[39m     plot_data = \u001b[43mPlotData\u001b[49m\u001b[43m(\u001b[49m\u001b[43mdata\u001b[49m\u001b[43m,\u001b[49m\u001b[43m \u001b[49m\u001b[43mvariables\u001b[49m\u001b[43m)\u001b[49m\n\u001b[32m    680\u001b[39m     frame = plot_data.frame\n\u001b[32m    681\u001b[39m     names = plot_data.names\n",
      "\u001b[36mFile \u001b[39m\u001b[32mc:\\Users\\Carolina\\Documents\\GitHub\\udacity_project_data_science_blog\\.venv\\Lib\\site-packages\\seaborn\\_core\\data.py:58\u001b[39m, in \u001b[36mPlotData.__init__\u001b[39m\u001b[34m(self, data, variables)\u001b[39m\n\u001b[32m     51\u001b[39m \u001b[38;5;28;01mdef\u001b[39;00m\u001b[38;5;250m \u001b[39m\u001b[34m__init__\u001b[39m(\n\u001b[32m     52\u001b[39m     \u001b[38;5;28mself\u001b[39m,\n\u001b[32m     53\u001b[39m     data: DataSource,\n\u001b[32m     54\u001b[39m     variables: \u001b[38;5;28mdict\u001b[39m[\u001b[38;5;28mstr\u001b[39m, VariableSpec],\n\u001b[32m     55\u001b[39m ):\n\u001b[32m     57\u001b[39m     data = handle_data_source(data)\n\u001b[32m---> \u001b[39m\u001b[32m58\u001b[39m     frame, names, ids = \u001b[38;5;28;43mself\u001b[39;49m\u001b[43m.\u001b[49m\u001b[43m_assign_variables\u001b[49m\u001b[43m(\u001b[49m\u001b[43mdata\u001b[49m\u001b[43m,\u001b[49m\u001b[43m \u001b[49m\u001b[43mvariables\u001b[49m\u001b[43m)\u001b[49m\n\u001b[32m     60\u001b[39m     \u001b[38;5;28mself\u001b[39m.frame = frame\n\u001b[32m     61\u001b[39m     \u001b[38;5;28mself\u001b[39m.names = names\n",
      "\u001b[36mFile \u001b[39m\u001b[32mc:\\Users\\Carolina\\Documents\\GitHub\\udacity_project_data_science_blog\\.venv\\Lib\\site-packages\\seaborn\\_core\\data.py:232\u001b[39m, in \u001b[36mPlotData._assign_variables\u001b[39m\u001b[34m(self, data, variables)\u001b[39m\n\u001b[32m    230\u001b[39m     \u001b[38;5;28;01melse\u001b[39;00m:\n\u001b[32m    231\u001b[39m         err += \u001b[33m\"\u001b[39m\u001b[33mAn entry with this name does not appear in `data`.\u001b[39m\u001b[33m\"\u001b[39m\n\u001b[32m--> \u001b[39m\u001b[32m232\u001b[39m     \u001b[38;5;28;01mraise\u001b[39;00m \u001b[38;5;167;01mValueError\u001b[39;00m(err)\n\u001b[32m    234\u001b[39m \u001b[38;5;28;01melse\u001b[39;00m:\n\u001b[32m    235\u001b[39m \n\u001b[32m    236\u001b[39m     \u001b[38;5;66;03m# Otherwise, assume the value somehow represents data\u001b[39;00m\n\u001b[32m    237\u001b[39m \n\u001b[32m    238\u001b[39m     \u001b[38;5;66;03m# Ignore empty data structures\u001b[39;00m\n\u001b[32m    239\u001b[39m     \u001b[38;5;28;01mif\u001b[39;00m \u001b[38;5;28misinstance\u001b[39m(val, Sized) \u001b[38;5;129;01mand\u001b[39;00m \u001b[38;5;28mlen\u001b[39m(val) == \u001b[32m0\u001b[39m:\n",
      "\u001b[31mValueError\u001b[39m: Could not interpret value `Edlevel` for `x`. An entry with this name does not appear in `data`."
     ]
    },
    {
     "data": {
      "image/png": "[encoded data removed]",
      "text/plain": [
       "<Figure size 1800x600 with 3 Axes>"
      ]
     },
     "metadata": {},
     "output_type": "display_data"
    }
   ],
   "source": [
    "# Age, Education Level and Organization Size\n",
    "# Create a figure with subplots to display all 3 bar charts\n",
    "fig, axes = plt.subplots(1, 3, figsize=(18, 6))\n",
    "\n",
    "# Plot for 'Age'\n",
    "sns.countplot(x='Age', data=df_cleaned, ax=axes[0])\n",
    "axes[0].set_title('Distribution of Age')\n",
    "axes[0].set_xlabel('Age')\n",
    "axes[0].set_ylabel('Count')\n",
    "\n",
    "# Plot for 'Edlevel'\n",
    "sns.countplot(x='Edlevel', data=df_cleaned, ax=axes[1])\n",
    "axes[1].set_title('Distribution of Education Level')\n",
    "axes[1].set_xlabel('Education Level')\n",
    "axes[1].set_ylabel('Count')\n",
    "\n",
    "# Plot for 'OrgSize'\n",
    "sns.countplot(x='OrgSize', data=df_cleaned, ax=axes[2])\n",
    "axes[2].set_title('Distribution of Organization Size')\n",
    "axes[2].set_xlabel('Organization Size')\n",
    "axes[2].set_ylabel('Count')\n",
    "\n",
    "# Adjust layout\n",
    "plt.tight_layout()\n",
    "plt.show()"
   ]
  },
  {
   "cell_type": "code",
   "execution_count": 42,
   "metadata": {},
   "outputs": [
    {
     "data": {
      "text/plain": [
       "YearsCode\n",
       "10                    1026\n",
       "8                      739\n",
       "15                     721\n",
       "12                     671\n",
       "20                     622\n",
       "7                      615\n",
       "6                      589\n",
       "14                     529\n",
       "9                      525\n",
       "5                      503\n",
       "11                     446\n",
       "25                     410\n",
       "13                     377\n",
       "18                     368\n",
       "4                      367\n",
       "16                     358\n",
       "17                     293\n",
       "30                     273\n",
       "24                     229\n",
       "3                      210\n",
       "22                     207\n",
       "19                     163\n",
       "26                     159\n",
       "40                     149\n",
       "23                     145\n",
       "21                     142\n",
       "27                     124\n",
       "35                     115\n",
       "2                      113\n",
       "28                     110\n",
       "29                      75\n",
       "34                      66\n",
       "32                      64\n",
       "38                      54\n",
       "33                      52\n",
       "42                      46\n",
       "36                      45\n",
       "31                      37\n",
       "37                      37\n",
       "45                      34\n",
       "41                      32\n",
       "43                      28\n",
       "44                      27\n",
       "39                      19\n",
       "1                       17\n",
       "46                      12\n",
       "More than 50 years       7\n",
       "Less than 1 year         7\n",
       "47                       7\n",
       "48                       7\n",
       "50                       6\n",
       "Name: count, dtype: int64"
      ]
     },
     "execution_count": 42,
     "metadata": {},
     "output_type": "execute_result"
    }
   ],
   "source": [
    "df_cleaned['YearsCode'].value_counts()"
   ]
  },
  {
   "cell_type": "code",
   "execution_count": 44,
   "metadata": {},
   "outputs": [
    {
     "data": {
      "text/plain": [
       "OrgSize\n",
       "20 to 99 employees                                    2788\n",
       "100 to 499 employees                                  2539\n",
       "1,000 to 4,999 employees                              1425\n",
       "10,000 or more employees                              1421\n",
       "10 to 19 employees                                    1176\n",
       "2 to 9 employees                                      1037\n",
       "500 to 999 employees                                   906\n",
       "5,000 to 9,999 employees                               497\n",
       "I don’t know                                           109\n",
       "Just me - I am a freelancer, sole proprietor, etc.      79\n",
       "Name: count, dtype: int64"
      ]
     },
     "execution_count": 44,
     "metadata": {},
     "output_type": "execute_result"
    }
   ],
   "source": [
    "df_cleaned['OrgSize'].value_counts()"
   ]
  },
  {
   "cell_type": "code",
   "execution_count": null,
   "metadata": {},
   "outputs": [],
   "source": [
    "# Replace special values with numeric equivalents for YearsCode and YearsCodePro\n",
    "df_cleaned[['YearsCode', 'YearsCodePro']] = df_cleaned[['YearsCode', 'YearsCodePr']].replace({\n",
    "    'More than 50 years': 51,\n",
    "    'Less than 1 year': 0\n",
    "})"
   ]
  },
  {
   "cell_type": "code",
   "execution_count": null,
   "metadata": {},
   "outputs": [],
   "source": [
    "# Convert both columns to integers\n",
    "df[['years_code', 'years_code_pro']] = df[['years_code', 'years_code_pro']].apply(pd.to_numeric, errors='coerce', downcast='integer')\n"
   ]
  },
  {
   "cell_type": "markdown",
   "metadata": {},
   "source": [
    "### 6. Feature Engineering "
   ]
  },
  {
   "cell_type": "code",
   "execution_count": null,
   "metadata": {},
   "outputs": [],
   "source": []
  },
  {
   "cell_type": "code",
   "execution_count": null,
   "metadata": {},
   "outputs": [],
   "source": []
  },
  {
   "cell_type": "code",
   "execution_count": null,
   "metadata": {},
   "outputs": [],
   "source": []
  },
  {
   "cell_type": "markdown",
   "metadata": {},
   "source": [
    "### 7. Splitting Data into Training & Testing Sets"
   ]
  },
  {
   "cell_type": "code",
   "execution_count": null,
   "metadata": {},
   "outputs": [],
   "source": []
  },
  {
   "cell_type": "code",
   "execution_count": null,
   "metadata": {},
   "outputs": [],
   "source": []
  },
  {
   "cell_type": "markdown",
   "metadata": {},
   "source": [
    "### 8. Model Training"
   ]
  },
  {
   "cell_type": "code",
   "execution_count": null,
   "metadata": {},
   "outputs": [],
   "source": []
  },
  {
   "cell_type": "markdown",
   "metadata": {},
   "source": [
    "### 9. Model Performance Metrics"
   ]
  },
  {
   "cell_type": "code",
   "execution_count": null,
   "metadata": {},
   "outputs": [],
   "source": []
  },
  {
   "cell_type": "markdown",
   "metadata": {},
   "source": [
    "### 10. Conclusion & Future Work"
   ]
  },
  {
   "cell_type": "code",
   "execution_count": null,
   "metadata": {},
   "outputs": [],
   "source": []
  }
 ],
 "metadata": {
  "kernelspec": {
   "display_name": ".venv",
   "language": "python",
   "name": "python3"
  },
  "language_info": {
   "codemirror_mode": {
    "name": "ipython",
    "version": 3
   },
   "file_extension": ".py",
   "mimetype": "text/x-python",
   "name": "python",
   "nbconvert_exporter": "python",
   "pygments_lexer": "ipython3",
   "version": "3.13.2"
  }
 },
 "nbformat": 4,
 "nbformat_minor": 2
}
